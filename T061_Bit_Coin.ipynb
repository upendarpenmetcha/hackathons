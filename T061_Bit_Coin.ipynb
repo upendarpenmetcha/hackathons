{
 "cells": [
  {
   "cell_type": "code",
   "execution_count": 9,
   "metadata": {},
   "outputs": [
    {
     "data": {
      "text/html": [
       "<div>\n",
       "<table border=\"1\" class=\"dataframe\">\n",
       "  <thead>\n",
       "    <tr style=\"text-align: right;\">\n",
       "      <th></th>\n",
       "      <th>Date</th>\n",
       "      <th>btc_market_price</th>\n",
       "      <th>btc_total_bitcoins</th>\n",
       "      <th>btc_market_cap</th>\n",
       "      <th>btc_trade_volume</th>\n",
       "      <th>btc_blocks_size</th>\n",
       "      <th>btc_avg_block_size</th>\n",
       "      <th>btc_n_orphaned_blocks</th>\n",
       "      <th>btc_n_transactions_per_block</th>\n",
       "      <th>btc_median_confirmation_time</th>\n",
       "      <th>...</th>\n",
       "      <th>btc_cost_per_transaction_percent</th>\n",
       "      <th>btc_cost_per_transaction</th>\n",
       "      <th>btc_n_unique_addresses</th>\n",
       "      <th>btc_n_transactions</th>\n",
       "      <th>btc_n_transactions_total</th>\n",
       "      <th>btc_n_transactions_excluding_popular</th>\n",
       "      <th>btc_n_transactions_excluding_chains_longer_than_100</th>\n",
       "      <th>btc_output_volume</th>\n",
       "      <th>btc_estimated_transaction_volume</th>\n",
       "      <th>btc_estimated_transaction_volume_usd</th>\n",
       "    </tr>\n",
       "  </thead>\n",
       "  <tbody>\n",
       "    <tr>\n",
       "      <th>0</th>\n",
       "      <td>2/17/2010</td>\n",
       "      <td>0.0</td>\n",
       "      <td>2043200.0</td>\n",
       "      <td>0.0</td>\n",
       "      <td>0.0</td>\n",
       "      <td>0.0</td>\n",
       "      <td>0.000235</td>\n",
       "      <td>0</td>\n",
       "      <td>1.0</td>\n",
       "      <td>0.0</td>\n",
       "      <td>...</td>\n",
       "      <td>31.781022</td>\n",
       "      <td>0.0</td>\n",
       "      <td>241</td>\n",
       "      <td>244</td>\n",
       "      <td>41240</td>\n",
       "      <td>244</td>\n",
       "      <td>244</td>\n",
       "      <td>65173.13</td>\n",
       "      <td>36500.0</td>\n",
       "      <td>0.0</td>\n",
       "    </tr>\n",
       "    <tr>\n",
       "      <th>1</th>\n",
       "      <td>2/18/2010</td>\n",
       "      <td>0.0</td>\n",
       "      <td>2054650.0</td>\n",
       "      <td>0.0</td>\n",
       "      <td>0.0</td>\n",
       "      <td>0.0</td>\n",
       "      <td>0.000241</td>\n",
       "      <td>0</td>\n",
       "      <td>1.0</td>\n",
       "      <td>0.0</td>\n",
       "      <td>...</td>\n",
       "      <td>154.463801</td>\n",
       "      <td>0.0</td>\n",
       "      <td>234</td>\n",
       "      <td>235</td>\n",
       "      <td>41475</td>\n",
       "      <td>235</td>\n",
       "      <td>235</td>\n",
       "      <td>18911.74</td>\n",
       "      <td>7413.0</td>\n",
       "      <td>0.0</td>\n",
       "    </tr>\n",
       "    <tr>\n",
       "      <th>2</th>\n",
       "      <td>2/19/2010</td>\n",
       "      <td>0.0</td>\n",
       "      <td>2063600.0</td>\n",
       "      <td>0.0</td>\n",
       "      <td>0.0</td>\n",
       "      <td>0.0</td>\n",
       "      <td>0.000228</td>\n",
       "      <td>0</td>\n",
       "      <td>1.0</td>\n",
       "      <td>0.0</td>\n",
       "      <td>...</td>\n",
       "      <td>1278.516635</td>\n",
       "      <td>0.0</td>\n",
       "      <td>185</td>\n",
       "      <td>183</td>\n",
       "      <td>41658</td>\n",
       "      <td>183</td>\n",
       "      <td>183</td>\n",
       "      <td>9749.98</td>\n",
       "      <td>700.0</td>\n",
       "      <td>0.0</td>\n",
       "    </tr>\n",
       "    <tr>\n",
       "      <th>3</th>\n",
       "      <td>2/20/2010</td>\n",
       "      <td>0.0</td>\n",
       "      <td>2074700.0</td>\n",
       "      <td>0.0</td>\n",
       "      <td>0.0</td>\n",
       "      <td>0.0</td>\n",
       "      <td>0.000218</td>\n",
       "      <td>0</td>\n",
       "      <td>1.0</td>\n",
       "      <td>0.0</td>\n",
       "      <td>...</td>\n",
       "      <td>22186.687990</td>\n",
       "      <td>0.0</td>\n",
       "      <td>224</td>\n",
       "      <td>224</td>\n",
       "      <td>41882</td>\n",
       "      <td>224</td>\n",
       "      <td>224</td>\n",
       "      <td>11150.03</td>\n",
       "      <td>50.0</td>\n",
       "      <td>0.0</td>\n",
       "    </tr>\n",
       "    <tr>\n",
       "      <th>4</th>\n",
       "      <td>2/21/2010</td>\n",
       "      <td>0.0</td>\n",
       "      <td>2085400.0</td>\n",
       "      <td>0.0</td>\n",
       "      <td>0.0</td>\n",
       "      <td>0.0</td>\n",
       "      <td>0.000234</td>\n",
       "      <td>0</td>\n",
       "      <td>1.0</td>\n",
       "      <td>0.0</td>\n",
       "      <td>...</td>\n",
       "      <td>689.179876</td>\n",
       "      <td>0.0</td>\n",
       "      <td>218</td>\n",
       "      <td>218</td>\n",
       "      <td>42100</td>\n",
       "      <td>218</td>\n",
       "      <td>218</td>\n",
       "      <td>12266.83</td>\n",
       "      <td>1553.0</td>\n",
       "      <td>0.0</td>\n",
       "    </tr>\n",
       "  </tbody>\n",
       "</table>\n",
       "<p>5 rows × 24 columns</p>\n",
       "</div>"
      ],
      "text/plain": [
       "        Date  btc_market_price  btc_total_bitcoins  btc_market_cap  \\\n",
       "0  2/17/2010               0.0           2043200.0             0.0   \n",
       "1  2/18/2010               0.0           2054650.0             0.0   \n",
       "2  2/19/2010               0.0           2063600.0             0.0   \n",
       "3  2/20/2010               0.0           2074700.0             0.0   \n",
       "4  2/21/2010               0.0           2085400.0             0.0   \n",
       "\n",
       "   btc_trade_volume  btc_blocks_size  btc_avg_block_size  \\\n",
       "0               0.0              0.0            0.000235   \n",
       "1               0.0              0.0            0.000241   \n",
       "2               0.0              0.0            0.000228   \n",
       "3               0.0              0.0            0.000218   \n",
       "4               0.0              0.0            0.000234   \n",
       "\n",
       "   btc_n_orphaned_blocks  btc_n_transactions_per_block  \\\n",
       "0                      0                           1.0   \n",
       "1                      0                           1.0   \n",
       "2                      0                           1.0   \n",
       "3                      0                           1.0   \n",
       "4                      0                           1.0   \n",
       "\n",
       "   btc_median_confirmation_time                  ...                   \\\n",
       "0                           0.0                  ...                    \n",
       "1                           0.0                  ...                    \n",
       "2                           0.0                  ...                    \n",
       "3                           0.0                  ...                    \n",
       "4                           0.0                  ...                    \n",
       "\n",
       "   btc_cost_per_transaction_percent  btc_cost_per_transaction  \\\n",
       "0                         31.781022                       0.0   \n",
       "1                        154.463801                       0.0   \n",
       "2                       1278.516635                       0.0   \n",
       "3                      22186.687990                       0.0   \n",
       "4                        689.179876                       0.0   \n",
       "\n",
       "   btc_n_unique_addresses  btc_n_transactions  btc_n_transactions_total  \\\n",
       "0                     241                 244                     41240   \n",
       "1                     234                 235                     41475   \n",
       "2                     185                 183                     41658   \n",
       "3                     224                 224                     41882   \n",
       "4                     218                 218                     42100   \n",
       "\n",
       "   btc_n_transactions_excluding_popular  \\\n",
       "0                                   244   \n",
       "1                                   235   \n",
       "2                                   183   \n",
       "3                                   224   \n",
       "4                                   218   \n",
       "\n",
       "   btc_n_transactions_excluding_chains_longer_than_100  btc_output_volume  \\\n",
       "0                                                244             65173.13   \n",
       "1                                                235             18911.74   \n",
       "2                                                183              9749.98   \n",
       "3                                                224             11150.03   \n",
       "4                                                218             12266.83   \n",
       "\n",
       "   btc_estimated_transaction_volume  btc_estimated_transaction_volume_usd  \n",
       "0                           36500.0                                   0.0  \n",
       "1                            7413.0                                   0.0  \n",
       "2                             700.0                                   0.0  \n",
       "3                              50.0                                   0.0  \n",
       "4                            1553.0                                   0.0  \n",
       "\n",
       "[5 rows x 24 columns]"
      ]
     },
     "execution_count": 9,
     "metadata": {},
     "output_type": "execute_result"
    }
   ],
   "source": [
    "import numpy as np\n",
    "import pandas as pd\n",
    "import csv\n",
    "import matplotlib.pyplot as plt\n",
    "from datetime import datetime\n",
    "bitcoin_data=pd.read_csv(\"https://raw.githubusercontent.com/colaberry/data/master/Bitcoin/bitcoin_dataset.csv\")\n",
    "bitcoin_data.head()"
   ]
  },
  {
   "cell_type": "code",
   "execution_count": 11,
   "metadata": {},
   "outputs": [
    {
     "ename": "NameError",
     "evalue": "name 'boston_data' is not defined",
     "output_type": "error",
     "traceback": [
      "\u001b[0;31m---------------------------------------------------------------------------\u001b[0m",
      "\u001b[0;31mNameError\u001b[0m                                 Traceback (most recent call last)",
      "\u001b[0;32m<ipython-input-11-856b905992bd>\u001b[0m in \u001b[0;36m<module>\u001b[0;34m()\u001b[0m\n\u001b[1;32m      2\u001b[0m \u001b[0;32mimport\u001b[0m \u001b[0mstatsmodels\u001b[0m\u001b[0;34m.\u001b[0m\u001b[0mformula\u001b[0m\u001b[0;34m.\u001b[0m\u001b[0mapi\u001b[0m \u001b[0;32mas\u001b[0m \u001b[0msm\u001b[0m\u001b[0;34m\u001b[0m\u001b[0m\n\u001b[1;32m      3\u001b[0m \u001b[0;34m\u001b[0m\u001b[0m\n\u001b[0;32m----> 4\u001b[0;31m \u001b[0mboston_data\u001b[0m\u001b[0;34m[\u001b[0m\u001b[0;34m'MEDV'\u001b[0m\u001b[0;34m]\u001b[0m \u001b[0;34m=\u001b[0m \u001b[0mboston_data\u001b[0m\u001b[0;34m.\u001b[0m\u001b[0mtarget\u001b[0m\u001b[0;34m\u001b[0m\u001b[0m\n\u001b[0m\u001b[1;32m      5\u001b[0m \u001b[0;34m\u001b[0m\u001b[0m\n\u001b[1;32m      6\u001b[0m \u001b[0;31m# Modify this to plot MEDV vs Lower status of the population.\u001b[0m\u001b[0;34m\u001b[0m\u001b[0;34m\u001b[0m\u001b[0m\n",
      "\u001b[0;31mNameError\u001b[0m: name 'boston_data' is not defined"
     ]
    }
   ],
   "source": [
    "from sklearn import datasets, linear_model\n",
    "import statsmodels.formula.api as sm\n",
    "\n",
    "boston_data['MEDV'] = boston_data.target\n",
    "\n",
    "# Modify this to plot MEDV vs Lower status of the population.\n",
    "g = sns.jointplot(\"MEDV\", \"CRIM\", data=boston_data, xlim=(0, 60), ylim=(0, 12), color=\"r\", size=7)\n",
    "g = sns.jointplot(\"MEDV\", \"LSTAT\", data=boston_data, xlim=(0, 60), ylim=(0, 12), color=\"r\", size=7)\n",
    "\n",
    "\n"
   ]
  },
  {
   "cell_type": "code",
   "execution_count": null,
   "metadata": {
    "collapsed": true
   },
   "outputs": [],
   "source": [
    "print(\"hello\")"
   ]
  },
  {
   "cell_type": "code",
   "execution_count": 6,
   "metadata": {},
   "outputs": [
    {
     "name": "stdout",
     "output_type": "stream",
     "text": [
      "hello\n"
     ]
    }
   ],
   "source": [
    "print(\"hello\")"
   ]
  },
  {
   "cell_type": "code",
   "execution_count": 7,
   "metadata": {},
   "outputs": [
    {
     "name": "stdout",
     "output_type": "stream",
     "text": [
      "hello\n"
     ]
    }
   ],
   "source": [
    "print(\"hello\")"
   ]
  },
  {
   "cell_type": "code",
   "execution_count": 8,
   "metadata": {},
   "outputs": [
    {
     "name": "stdout",
     "output_type": "stream",
     "text": [
      "hello\n"
     ]
    }
   ],
   "source": [
    "print(\"hello\")"
   ]
  }
 ],
 "metadata": {
  "executed_sections": [],
  "kernelspec": {
   "display_name": "Python 3",
   "language": "python",
   "name": "python3"
  },
  "language_info": {
   "codemirror_mode": {
    "name": "ipython",
    "version": 3
   },
   "file_extension": ".py",
   "mimetype": "text/x-python",
   "name": "python",
   "nbconvert_exporter": "python",
   "pygments_lexer": "ipython3",
   "version": "3.5.2"
  }
 },
 "nbformat": 4,
 "nbformat_minor": 2
}